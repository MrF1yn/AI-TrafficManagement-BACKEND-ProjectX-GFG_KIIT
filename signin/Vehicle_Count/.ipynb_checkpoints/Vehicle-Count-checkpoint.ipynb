{
 "cells": [
  {
   "cell_type": "code",
   "execution_count": 1,
   "id": "454884da",
   "metadata": {},
   "outputs": [
    {
     "name": "stdout",
     "output_type": "stream",
     "text": [
      "Current Directory: C:\\Users\\KIIT\\Downloads\\Vehicle Detection System\\Vehicle_Count\n",
      "Root Directory: C:\\Users\\KIIT\\Downloads\\Vehicle Detection System\n"
     ]
    }
   ],
   "source": [
    "import os\n",
    "\n",
    "# Get the current working directory (where the notebook file is located)\n",
    "current_directory = os.getcwd()\n",
    "\n",
    "# Navigate to the parent directory (root directory of the folder)\n",
    "root_directory = os.path.abspath(os.path.join(current_directory, os.pardir))\n",
    "\n",
    "print(\"Current Directory:\", current_directory)\n",
    "print(\"Root Directory:\", root_directory)\n"
   ]
  },
  {
   "cell_type": "code",
   "execution_count": 2,
   "id": "717f6d1b",
   "metadata": {},
   "outputs": [],
   "source": [
    "import cv2\n",
    "import numpy as np\n",
    "\n",
    "def count_vehicles(image_path):\n",
    "    # Load YOLO\n",
    "    net = cv2.dnn.readNet(\"yolov3.weights\", \"yolov3.cfg\")\n",
    "    classes = []\n",
    "    with open(\"coco.names\", \"r\") as f:\n",
    "        classes = [line.strip() for line in f.readlines()]\n",
    "\n",
    "    layer_names = net.getLayerNames()\n",
    "    output_layers = [layer_names[i - 1] for i in net.getUnconnectedOutLayers()]\n",
    "\n",
    "    # Load image\n",
    "    image = cv2.imread(image_path)\n",
    "\n",
    "    # Check if the image was loaded successfully\n",
    "    if image is None:\n",
    "        print(f\"Error loading image at path: {image_path}\")\n",
    "    else:\n",
    "        height, width, channels = image.shape\n",
    "\n",
    "        # Detecting objects\n",
    "        blob = cv2.dnn.blobFromImage(image, 0.00392, (416, 416), (0, 0, 0), True, crop=False)\n",
    "        net.setInput(blob)\n",
    "        outs = net.forward(output_layers)\n",
    "\n",
    "        # Lists to store class IDs, confidences, and bounding boxes\n",
    "        class_ids = []\n",
    "        confidences = []\n",
    "        boxes = []\n",
    "\n",
    "        # Identify vehicles and store their class IDs, confidences, and bounding boxes\n",
    "        for out in outs:\n",
    "            for detection in out:\n",
    "                scores = detection[5:]\n",
    "                class_id = np.argmax(scores)\n",
    "                confidence = scores[class_id]\n",
    "                if confidence > 0.7 and class_id in [2, 3, 5, 7]:  # Adjust confidence threshold and class IDs as needed\n",
    "                    center_x = int(detection[0] * width)\n",
    "                    center_y = int(detection[1] * height)\n",
    "                    w = int(detection[2] * width)\n",
    "                    h = int(detection[3] * height)\n",
    "\n",
    "                    # Store class ID, confidence, and bounding box coordinates\n",
    "                    class_ids.append(class_id)\n",
    "                    confidences.append(float(confidence))\n",
    "                    boxes.append([center_x, center_y, w, h])\n",
    "\n",
    "        # Apply Non-Maximum Suppression (NMS) to eliminate redundant detections\n",
    "        indices = cv2.dnn.NMSBoxes(boxes, confidences, score_threshold=0.7, nms_threshold=0.5)\n",
    "        if len(indices) > 0:\n",
    "            # Draw bounding boxes and labels for each vehicle\n",
    "            for i in indices.flatten():\n",
    "                box = boxes[i]\n",
    "                center_x, center_y, w, h = box\n",
    "                class_id = class_ids[i]\n",
    "                confidence = confidences[i]\n",
    "\n",
    "                # Draw bounding box around the vehicle\n",
    "                cv2.rectangle(image, (center_x - w // 2, center_y - h // 2), (center_x + w // 2, center_y + h // 2),\n",
    "                              (0, 255, 0), 2)\n",
    "\n",
    "#                 # Label the vehicle\n",
    "#                 label = f'Vehicle: {classes[class_id]}'\n",
    "#                 cv2.putText(image, label, (center_x, center_y), cv2.FONT_HERSHEY_SIMPLEX, 6, (255, 255, 255), 6)\n",
    "\n",
    "                 # Display the total number of vehicles in the top left corner of the image\n",
    "                num_vehicles = len(indices)\n",
    "                cv2.putText(image, f'Total Vehicles: {num_vehicles}', (10, 90), cv2.FONT_HERSHEY_SIMPLEX, 4, (255, 0, 0), 4)\n",
    "\n",
    "            # Resize the output image to (800, 600)\n",
    "            image = cv2.resize(image, (800, 600))\n",
    "\n",
    "            # Display the number of vehicles detected\n",
    "            num_vehicles = len(indices)\n",
    "            print(f\"Number of vehicles detected: {num_vehicles}\")\n",
    "\n",
    "            # Display the image with bounding boxes, labels, and number of vehicles\n",
    "            cv2.imshow(\"Image with Vehicles\", image)\n",
    "            cv2.waitKey(0)\n",
    "            cv2.destroyAllWindows()\n",
    "            return num_vehicles\n",
    "        else:\n",
    "            print(\"No vehicles detected.\")\n",
    "        "
   ]
  },
  {
   "cell_type": "code",
   "execution_count": 4,
   "id": "b4ec557b",
   "metadata": {},
   "outputs": [
    {
     "name": "stdout",
     "output_type": "stream",
     "text": [
      "Number of vehicles detected: 29\n"
     ]
    }
   ],
   "source": [
    "# Example usage:\n",
    "image_path = r'C:\\Users\\KIIT\\Downloads\\Vehicle Detection System\\data\\demo9.jpg'  # Path to the image\n",
    "number = count_vehicles(image_path)\n",
    "# print(number)"
   ]
  },
  {
   "cell_type": "code",
   "execution_count": null,
   "id": "645c77b7",
   "metadata": {},
   "outputs": [],
   "source": []
  }
 ],
 "metadata": {
  "kernelspec": {
   "display_name": "Python 3 (ipykernel)",
   "language": "python",
   "name": "python3"
  },
  "language_info": {
   "codemirror_mode": {
    "name": "ipython",
    "version": 3
   },
   "file_extension": ".py",
   "mimetype": "text/x-python",
   "name": "python",
   "nbconvert_exporter": "python",
   "pygments_lexer": "ipython3",
   "version": "3.9.7"
  }
 },
 "nbformat": 4,
 "nbformat_minor": 5
}
